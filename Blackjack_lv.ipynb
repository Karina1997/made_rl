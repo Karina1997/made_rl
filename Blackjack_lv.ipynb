{
  "nbformat": 4,
  "nbformat_minor": 0,
  "metadata": {
    "colab": {
      "name": "Blackjack_lv.ipynb",
      "provenance": [],
      "collapsed_sections": [
        "_xXJvT4k95Kq",
        "UjNXF4G-E3IP",
        "vvPcqxNFQrqm"
      ]
    },
    "kernelspec": {
      "name": "python3",
      "display_name": "Python 3"
    }
  },
  "cells": [
    {
      "cell_type": "code",
      "metadata": {
        "id": "cwz0WfBG9qfS"
      },
      "source": [
        "from collections import defaultdict\n",
        "import gym\n",
        "import numpy as np\n",
        "import matplotlib.pyplot as plt"
      ],
      "execution_count": 1,
      "outputs": []
    },
    {
      "cell_type": "markdown",
      "metadata": {
        "id": "_xXJvT4k95Kq"
      },
      "source": [
        "## Part 1.1"
      ]
    },
    {
      "cell_type": "code",
      "metadata": {
        "id": "6ftgh_q1975n"
      },
      "source": [
        "actions = {\"stick\" : 0, \"hit\" : 1}"
      ],
      "execution_count": 79,
      "outputs": []
    },
    {
      "cell_type": "code",
      "metadata": {
        "id": "3jZNe-gJ-Ar3"
      },
      "source": [
        "def policy(state):\n",
        "    if state > 18:\n",
        "        return actions[\"stick\"]\n",
        "    else:\n",
        "        return actions[\"hit\"]"
      ],
      "execution_count": 74,
      "outputs": []
    },
    {
      "cell_type": "code",
      "metadata": {
        "id": "mHPBlEC8-C_9"
      },
      "source": [
        "def generate_episode(env, policy):\n",
        "    state = env.reset() \n",
        "\n",
        "    states = []\n",
        "    actions = []\n",
        "    rewards = []\n",
        "\n",
        "    done = False\n",
        "\n",
        "    while not done:\n",
        "        action = policy(state[0])\n",
        "\n",
        "        states.append(state)\n",
        "        actions.append(action)\n",
        "\n",
        "        next_state, reward, done, _ = env.step(action)\n",
        "\n",
        "        rewards.append(reward)\n",
        "\n",
        "        state = next_state\n",
        "\n",
        "    return states, actions, rewards"
      ],
      "execution_count": 75,
      "outputs": []
    },
    {
      "cell_type": "code",
      "metadata": {
        "id": "pcDRwvCH_YV0"
      },
      "source": [
        "def mc_prediction_v(env, policy, num_episodes, gamma=1.0):\n",
        "    # initialize empty dictionaries of arrays\n",
        "    returns_sum = defaultdict(lambda: 0)\n",
        "    N = defaultdict(lambda: 0)\n",
        "    V = defaultdict(lambda: 0)\n",
        "    # loop over episodes\n",
        "    for i_episode in range(1, num_episodes + 1):\n",
        "        \n",
        "        if i_episode % 1000 == 0:\n",
        "            print(\"\\rEpisode {}/{}.\".format(i_episode, num_episodes), end=\"\")\n",
        "            \n",
        "        # obtain the states, actions, and rewards\n",
        "        states, actions, rewards = generate_episode(env, policy)\n",
        "\n",
        "        discounts = np.array([gamma**i for i in range(len(rewards))]) \n",
        "\n",
        "        for i in range(len(rewards)):\n",
        "\n",
        "          if i == 0:\n",
        "            G_r = sum(rewards[i:] * discounts[:])\n",
        "          else:\n",
        "            G_r = sum(rewards[i:] * discounts[:-i])\n",
        "\n",
        "          returns_sum[states[i]] += G_r\n",
        "          N[states[i]] += 1.0\n",
        "            \n",
        "    V = {}\n",
        "    for state in N:\n",
        "        V[state] = returns_sum[state] / N[state]\n",
        "    return V"
      ],
      "execution_count": 76,
      "outputs": []
    },
    {
      "cell_type": "code",
      "metadata": {
        "id": "T4tneuwo_i2S",
        "outputId": "b6122bcf-a71c-4bfc-84dc-3de1d15d1d37",
        "colab": {
          "base_uri": "https://localhost:8080/"
        }
      },
      "source": [
        "env = gym.make('Blackjack-v0', natural=True)\n",
        "V = mc_prediction_v(env, policy, 100000, gamma=1.0)"
      ],
      "execution_count": 77,
      "outputs": [
        {
          "output_type": "stream",
          "text": [
            "Episode 100000/100000."
          ],
          "name": "stdout"
        }
      ]
    },
    {
      "cell_type": "code",
      "metadata": {
        "id": "oacKgzSbELJe",
        "outputId": "82eddccf-85e5-4e54-a924-93594a0cdfa2",
        "colab": {
          "base_uri": "https://localhost:8080/"
        }
      },
      "source": [
        "V[(20, 5, False)]"
      ],
      "execution_count": 78,
      "outputs": [
        {
          "output_type": "execute_result",
          "data": {
            "text/plain": [
              "0.6523545706371191"
            ]
          },
          "metadata": {
            "tags": []
          },
          "execution_count": 78
        }
      ]
    },
    {
      "cell_type": "markdown",
      "metadata": {
        "id": "UjNXF4G-E3IP"
      },
      "source": [
        "## Part 1.2-3 MC control"
      ]
    },
    {
      "cell_type": "code",
      "metadata": {
        "id": "ZpCAh-PoLqeY"
      },
      "source": [
        "def conduct_experiments_pi(env, policy, Q, num_experiments=100000):\n",
        "    num_steps, total_reward = [], []\n",
        "    for i in range(num_experiments):\n",
        "        state = env.reset()\n",
        "        total_reward.append(0)\n",
        "        \n",
        "        done = False\n",
        "        \n",
        "        while not done:\n",
        "            state, reward, done, _ = env.step(policy(-1, env.action_space.n, Q[state]))\n",
        "            total_reward[-1] += reward\n",
        "\n",
        "    env.close()\n",
        "    return np.sum(total_reward)"
      ],
      "execution_count": 106,
      "outputs": []
    },
    {
      "cell_type": "code",
      "metadata": {
        "id": "KgmMyicKFFwr"
      },
      "source": [
        "def policy_with_eps(eps, action_space, Q_for_state):\n",
        "  if np.random.rand() > eps: \n",
        "    return np.random.choice(np.where(Q_for_state == np.max(Q_for_state))[0])\n",
        "  else: \n",
        "    return np.random.randint(action_space)"
      ],
      "execution_count": 107,
      "outputs": []
    },
    {
      "cell_type": "code",
      "metadata": {
        "id": "RG2tiEv1FF-X"
      },
      "source": [
        "def generate_episode_for_alg(env, policy, Q, epsilon):\n",
        "    states = []\n",
        "    actions = []\n",
        "    rewards = []\n",
        "    state = env.reset() \n",
        "\n",
        "    done = False\n",
        " \n",
        "    while not done:\n",
        "        states.append(state)\n",
        "      \n",
        "        action = policy(epsilon, env.action_space.n,  Q[state])\n",
        "        actions.append(action)\n",
        "\n",
        "        next_state, reward, done, _ = env.step(action)\n",
        "        rewards.append(reward)\n",
        "\n",
        "        state = next_state\n",
        "\n",
        "    return states, actions, rewards"
      ],
      "execution_count": 145,
      "outputs": []
    },
    {
      "cell_type": "code",
      "metadata": {
        "id": "7MnCkSKbITt_"
      },
      "source": [
        "def mc_control(env, Q, policy, gamma, alpha, epsilon):\n",
        "  \n",
        "  states, actions, rewards =  generate_episode_for_alg(env, policy, Q, epsilon)   \n",
        "  G = 0\n",
        "\n",
        "  for i in range(len(rewards))[::-1]:\n",
        "    G = gamma * G + rewards[i]\n",
        "                \n",
        "    Q[states[i]][actions[i]] += alpha * (G - Q[states[i]][actions[i]])\n",
        "\n",
        "  return Q"
      ],
      "execution_count": 109,
      "outputs": []
    },
    {
      "cell_type": "code",
      "metadata": {
        "id": "-GGfPObmJ32S"
      },
      "source": [
        "def exp_with_results_mc(env, Q_arr_creation_func, total_episodes, exp_freq, gamma, alpha, epsilon):\n",
        "  results_Qlearn = []\n",
        "\n",
        "  Q_arr = defaultdict(lambda: np.zeros(env.action_space.n))\n",
        "\n",
        "  for n in range(0, total_episodes + 1):\n",
        "      Q_arr = Q_arr_creation_func(env, Q_arr, policy_with_eps, gamma, alpha, epsilon)\n",
        "\n",
        "      if n % exp_freq == 0:\n",
        "          print(\"\\rEpisode {}/{}.\".format(n, total_episodes), end=\"\")\n",
        "          result = conduct_experiments_pi(env, policy_with_eps, Q_arr)\n",
        "          results_Qlearn.append(result)\n",
        "\n",
        "  env.close()\n",
        "  return results_Qlearn"
      ],
      "execution_count": 133,
      "outputs": []
    },
    {
      "cell_type": "code",
      "metadata": {
        "id": "hN4AgywTM9le",
        "outputId": "1decbb76-2240-4b64-ae0b-25d539f77948",
        "colab": {
          "base_uri": "https://localhost:8080/"
        }
      },
      "source": [
        "num_exp = 4\n",
        "\n",
        "total_episodes = 100000\n",
        "exp_freq = 25000\n",
        "env = gym.make('Blackjack-v0', natural=True)\n",
        "gamma = 0.9\n",
        "alpha = 0.1\n",
        "epsilon = 0.1\n",
        "\n",
        "res_rewards = [exp_with_results_mc(env, mc_control, total_episodes, exp_freq, gamma, alpha, epsilon) for i in range(num_exp)]"
      ],
      "execution_count": 162,
      "outputs": [
        {
          "output_type": "stream",
          "text": [
            "Episode 100000/100000."
          ],
          "name": "stdout"
        }
      ]
    },
    {
      "cell_type": "code",
      "metadata": {
        "id": "BxDHNx2iJ5-A",
        "outputId": "239e5f7b-24ef-40e8-cf6c-9ea30f647f31",
        "colab": {
          "base_uri": "https://localhost:8080/",
          "height": 282
        }
      },
      "source": [
        "print(\"last reward:\" + str(np.mean(res_rewards, axis = 0)[-1]))\n",
        "plt.plot(np.arange(0, total_episodes + 1, exp_freq), np.mean(res_rewards, axis = 0), label=\"monte_carlo_control\")\n",
        "plt.grid()\n",
        "_ = plt.legend()\n",
        "plt.show()"
      ],
      "execution_count": 165,
      "outputs": [
        {
          "output_type": "stream",
          "text": [
            "last reward:-5078.25\n"
          ],
          "name": "stdout"
        },
        {
          "output_type": "display_data",
          "data": {
            "image/png": "[encoded data removed]",
            "text/plain": [
              "<Figure size 432x288 with 1 Axes>"
            ]
          },
          "metadata": {
            "tags": [],
            "needs_background": "light"
          }
        }
      ]
    },
    {
      "cell_type": "code",
      "metadata": {
        "id": "k_to7WMGOUJP",
        "outputId": "506607bd-4fe4-4b87-9369-6662c2c78239",
        "colab": {
          "base_uri": "https://localhost:8080/"
        }
      },
      "source": [
        "num_exp = 4\n",
        "\n",
        "total_episodes = 100000\n",
        "exp_freq = 25000\n",
        "env = gym.make('Blackjack-v0', natural=True)\n",
        "gamma = 0.99\n",
        "alpha = 0.1\n",
        "epsilon = 0.4\n",
        "\n",
        "res_rewards = [exp_with_results_mc(env, mc_control, total_episodes, exp_freq, gamma, alpha, epsilon) for i in range(num_exp)]"
      ],
      "execution_count": 178,
      "outputs": [
        {
          "output_type": "stream",
          "text": [
            "Episode 100000/100000."
          ],
          "name": "stdout"
        }
      ]
    },
    {
      "cell_type": "code",
      "metadata": {
        "id": "3Ay8cH8nP7o0",
        "outputId": "08782091-6164-4dcd-92fe-2e0c13d2b887",
        "colab": {
          "base_uri": "https://localhost:8080/",
          "height": 286
        }
      },
      "source": [
        "print(\"last reward:\" + str(np.mean(res_rewards, axis = 0)[-1]))\n",
        "plt.plot(np.arange(0, total_episodes + 1, exp_freq), np.mean(res_rewards, axis = 0), label=\"monte_carlo_control\")\n",
        "plt.grid()\n",
        "_ = plt.legend()\n",
        "plt.show()"
      ],
      "execution_count": 179,
      "outputs": [
        {
          "output_type": "stream",
          "text": [
            "last reward:-7156.0\n"
          ],
          "name": "stdout"
        },
        {
          "output_type": "display_data",
          "data": {
            "image/png": "[encoded data removed]",
            "text/plain": [
              "<Figure size 432x288 with 1 Axes>"
            ]
          },
          "metadata": {
            "tags": [],
            "needs_background": "light"
          }
        }
      ]
    },
    {
      "cell_type": "markdown",
      "metadata": {
        "id": "vvPcqxNFQrqm"
      },
      "source": [
        "## Part 1.2-3 Q learning"
      ]
    },
    {
      "cell_type": "code",
      "metadata": {
        "id": "wqkj_n_WQvRW"
      },
      "source": [
        "def Q_step(env, Q, policy, gamma, alpha, epsilon):\n",
        "    curr_state = env.reset()\n",
        "\n",
        "    done = False\n",
        "\n",
        "    while not done:   \n",
        "\n",
        "            curr_act = policy(epsilon, env.action_space.n,  Q[curr_state])\n",
        "            next_state, reward, done, _ = env.step(curr_act)\n",
        "            \n",
        "            Q[curr_state][curr_act] = Q[curr_state][curr_act] + alpha * (reward + gamma * np.max(Q[next_state]) - Q[curr_state][curr_act])\n",
        "            curr_state = next_state\n",
        "    return Q"
      ],
      "execution_count": 173,
      "outputs": []
    },
    {
      "cell_type": "code",
      "metadata": {
        "id": "FCBMt9QMSnV0",
        "outputId": "98fabd7c-bd70-4410-d7a5-b9da609d15e4",
        "colab": {
          "base_uri": "https://localhost:8080/"
        }
      },
      "source": [
        "num_exp = 4\n",
        "\n",
        "total_episodes = 100000\n",
        "exp_freq = 25000\n",
        "env = gym.make('Blackjack-v0', natural=True)\n",
        "gamma = 0.9\n",
        "alpha = 0.1\n",
        "epsilon = 0.1\n",
        "\n",
        "res_rewards = [exp_with_results_mc(env, Q_step, total_episodes, exp_freq, gamma, alpha, epsilon) for i in range(num_exp)]"
      ],
      "execution_count": 184,
      "outputs": [
        {
          "output_type": "stream",
          "text": [
            "Episode 100000/100000."
          ],
          "name": "stdout"
        }
      ]
    },
    {
      "cell_type": "code",
      "metadata": {
        "id": "BlKsbqHmSnV4",
        "outputId": "f8b3d90e-f623-49af-9a00-77c99f70acc6",
        "colab": {
          "base_uri": "https://localhost:8080/",
          "height": 282
        }
      },
      "source": [
        "print(\"last reward:\" + str(np.mean(res_rewards, axis = 0)[-1]))\n",
        "plt.plot(np.arange(0, total_episodes + 1, exp_freq), np.mean(res_rewards, axis = 0), label=\"q_learning\")\n",
        "plt.grid()\n",
        "_ = plt.legend()\n",
        "plt.show()"
      ],
      "execution_count": 185,
      "outputs": [
        {
          "output_type": "stream",
          "text": [
            "last reward:-13932.625\n"
          ],
          "name": "stdout"
        },
        {
          "output_type": "display_data",
          "data": {
            "image/png": "[encoded data removed]",
            "text/plain": [
              "<Figure size 432x288 with 1 Axes>"
            ]
          },
          "metadata": {
            "tags": [],
            "needs_background": "light"
          }
        }
      ]
    },
    {
      "cell_type": "code",
      "metadata": {
        "id": "lv_PnAZcUnJ3",
        "outputId": "14c68697-965f-498c-e43c-07bc3ed1909b",
        "colab": {
          "base_uri": "https://localhost:8080/"
        }
      },
      "source": [
        "num_exp = 4\n",
        "\n",
        "total_episodes = 100000\n",
        "exp_freq = 25000\n",
        "env = gym.make('Blackjack-v0', natural=True)\n",
        "gamma = 0.9\n",
        "alpha = 0.1\n",
        "epsilon = 0.3\n",
        "\n",
        "res_rewards = [exp_with_results_mc(env, Q_step, total_episodes, exp_freq, gamma, alpha, epsilon) for i in range(num_exp)]"
      ],
      "execution_count": 187,
      "outputs": [
        {
          "output_type": "stream",
          "text": [
            "Episode 100000/100000."
          ],
          "name": "stdout"
        }
      ]
    },
    {
      "cell_type": "code",
      "metadata": {
        "id": "GCtgxyGmUnJ8",
        "outputId": "9655bee4-c6b5-4d78-92d0-5c8e5a0fe1ae",
        "colab": {
          "base_uri": "https://localhost:8080/",
          "height": 282
        }
      },
      "source": [
        "print(\"last reward:\" + str(np.mean(res_rewards, axis = 0)[-1]))\n",
        "plt.plot(np.arange(0, total_episodes + 1, exp_freq), np.mean(res_rewards, axis = 0), label=\"q_learning\")\n",
        "plt.grid()\n",
        "_ = plt.legend()\n",
        "plt.show()"
      ],
      "execution_count": 188,
      "outputs": [
        {
          "output_type": "stream",
          "text": [
            "last reward:-11492.125\n"
          ],
          "name": "stdout"
        },
        {
          "output_type": "display_data",
          "data": {
            "image/png": "[encoded data removed]",
            "text/plain": [
              "<Figure size 432x288 with 1 Axes>"
            ]
          },
          "metadata": {
            "tags": [],
            "needs_background": "light"
          }
        }
      ]
    },
    {
      "cell_type": "markdown",
      "metadata": {
        "id": "JoZsLQlObD2G"
      },
      "source": [
        "## Part 2"
      ]
    },
    {
      "cell_type": "code",
      "metadata": {
        "id": "JJbYNCjsbIuI"
      },
      "source": [
        "from gym import spaces\n",
        "from gym.utils import seeding\n",
        "\n",
        "\n",
        "def cmp(a, b):\n",
        "    return float(a > b) - float(a < b)\n",
        "\n",
        "# 1 = Ace, 2-10 = Number cards, Jack/Queen/King = 10\n",
        "deck = [1, 2, 3, 4, 5, 6, 7, 8, 9, 10, 10, 10, 10]\n",
        "\n",
        "\n",
        "def draw_card(np_random):\n",
        "    return int(np_random.choice(deck))\n",
        "\n",
        "\n",
        "def draw_hand(np_random):\n",
        "    return [draw_card(np_random), draw_card(np_random)]\n",
        "\n",
        "\n",
        "def usable_ace(hand):  # Does this hand have a usable ace?\n",
        "    return 1 in hand and sum(hand) + 10 <= 21\n",
        "\n",
        "\n",
        "def sum_hand(hand):  # Return current hand total\n",
        "    if usable_ace(hand):\n",
        "        return sum(hand) + 10\n",
        "    return sum(hand)\n",
        "\n",
        "\n",
        "def is_bust(hand):  # Is this hand a bust?\n",
        "    return sum_hand(hand) > 21\n",
        "\n",
        "\n",
        "def score(hand):  # What is the score of this hand (0 if bust)\n",
        "    return 0 if is_bust(hand) else sum_hand(hand)\n",
        "\n",
        "\n",
        "def is_natural(hand):  # Is this hand a natural blackjack?\n",
        "    return sorted(hand) == [1, 10]\n",
        "\n",
        "\n",
        "class BlackjackEnvWithDouble(gym.Env):\n",
        "    def __init__(self, natural=False):\n",
        "        self.action_space = spaces.Discrete(3)\n",
        "        self.observation_space = spaces.Tuple((\n",
        "            spaces.Discrete(32),\n",
        "            spaces.Discrete(11),\n",
        "            spaces.Discrete(2)))\n",
        "        self.seed()\n",
        "\n",
        "        # Flag to payout 1.5 on a \"natural\" blackjack win, like casino rules\n",
        "        # Ref: http://www.bicyclecards.com/how-to-play/blackjack/\n",
        "        self.natural = natural\n",
        "        # Start the first game\n",
        "        self.reset()\n",
        "\n",
        "    def seed(self, seed=None):\n",
        "        self.np_random, seed = seeding.np_random(seed)\n",
        "        return [seed]\n",
        "\n",
        "    def step(self, action):\n",
        "        assert self.action_space.contains(action)\n",
        "\n",
        "        if action == 2:\n",
        "\n",
        "            done = True\n",
        "\n",
        "            self.player.append(draw_card(self.np_random))\n",
        "\n",
        "            if is_bust(self.player):\n",
        "                reward = -1 * 2.\n",
        "\n",
        "            else:\n",
        "                while sum_hand(self.dealer) < 17:\n",
        "                  self.dealer.append(draw_card(self.np_random))\n",
        "                \n",
        "                reward = 2 * cmp(score(self.player), score(self.dealer))\n",
        "\n",
        "        elif action == 1:  # hit: add a card to players hand and return\n",
        "            self.player.append(draw_card(self.np_random))\n",
        "\n",
        "            if is_bust(self.player):\n",
        "                done = True\n",
        "                reward = -1.\n",
        "            else:\n",
        "                done = False\n",
        "                reward = 0.\n",
        "\n",
        "        else:  # stick: play out the dealers hand, and score\n",
        "            done = True\n",
        "\n",
        "            while sum_hand(self.dealer) < 17:\n",
        "                self.dealer.append(draw_card(self.np_random))\n",
        "\n",
        "            reward = cmp(score(self.player), score(self.dealer))\n",
        "            if self.natural and is_natural(self.player) and reward == 1.:\n",
        "                reward = 1.5\n",
        "\n",
        "\n",
        "        return self._get_obs(), reward, done, {}\n",
        "\n",
        "    def _get_obs(self):\n",
        "        return (sum_hand(self.player), self.dealer[0], usable_ace(self.player))\n",
        "\n",
        "    def reset(self):\n",
        "        self.dealer = draw_hand(self.np_random)\n",
        "        self.player = draw_hand(self.np_random)\n",
        "        return self._get_obs()"
      ],
      "execution_count": 199,
      "outputs": []
    },
    {
      "cell_type": "code",
      "metadata": {
        "id": "gUJK-QUiblO3",
        "outputId": "438c11de-1bcc-4c35-ba90-63c41b1c6ce9",
        "colab": {
          "base_uri": "https://localhost:8080/"
        }
      },
      "source": [
        "num_exp = 4\n",
        "\n",
        "total_episodes = 200000\n",
        "exp_freq = 25000\n",
        "env = BlackjackEnvWithDouble(natural=True)\n",
        "gamma = 0.9\n",
        "alpha = 0.1\n",
        "epsilon = 0.05\n",
        "\n",
        "res_rewards = [exp_with_results_mc(env, mc_control, total_episodes, exp_freq, gamma, alpha, epsilon) for i in range(num_exp)]"
      ],
      "execution_count": 204,
      "outputs": [
        {
          "output_type": "stream",
          "text": [
            "Episode 200000/200000."
          ],
          "name": "stdout"
        }
      ]
    },
    {
      "cell_type": "code",
      "metadata": {
        "id": "qE5zfzmzblWk",
        "outputId": "29c29d25-ea5d-48b5-a862-9392f0d55219",
        "colab": {
          "base_uri": "https://localhost:8080/",
          "height": 282
        }
      },
      "source": [
        "print(\"last reward:\" + str(np.mean(res_rewards, axis = 0)[-1]))\n",
        "plt.plot(np.arange(0, total_episodes + 1, exp_freq), np.mean(res_rewards, axis = 0), label=\"mc_control\")\n",
        "plt.grid()\n",
        "_ = plt.legend()\n",
        "plt.show()"
      ],
      "execution_count": 205,
      "outputs": [
        {
          "output_type": "stream",
          "text": [
            "last reward:-4037.5\n"
          ],
          "name": "stdout"
        },
        {
          "output_type": "display_data",
          "data": {
            "image/png": "[encoded data removed]",
            "text/plain": [
              "<Figure size 432x288 with 1 Axes>"
            ]
          },
          "metadata": {
            "tags": [],
            "needs_background": "light"
          }
        }
      ]
    },
    {
      "cell_type": "markdown",
      "metadata": {
        "id": "WIZPgCiIiT9z"
      },
      "source": [
        "## Part 3"
      ]
    },
    {
      "cell_type": "code",
      "metadata": {
        "id": "VdSaGa9FiXb1"
      },
      "source": [
        "score_for_card = {2:1, 3:1, 4:1, 5:1, 6:1, 7:0, 8:0, 9:0, 10:-1, 1:-1}\n",
        "initial_deck_state = {1:4, 2:4, 3:4, 5:4, 6:4, 7:4, 8:4, 9:4, 10:16}\n",
        "\n",
        "def cmp(a, b):\n",
        "    return float(a > b) - float(a < b)\n",
        "\n",
        "def count_score(current_state, card):\n",
        "    total = 0\n",
        "    for i in card:\n",
        "      total += score_for_card[i]\n",
        "    \n",
        "    return current_state + total\n",
        "\n",
        "def usable_ace(hand):  # Does this hand have a usable ace?\n",
        "    return 1 in hand and sum(hand) + 10 <= 21\n",
        "\n",
        "\n",
        "def sum_hand(hand):  # Return current hand total\n",
        "    if usable_ace(hand):\n",
        "        return sum(hand) + 10\n",
        "    return sum(hand)\n",
        "\n",
        "\n",
        "def is_bust(hand):  # Is this hand a bust?\n",
        "    return sum_hand(hand) > 21\n",
        "\n",
        "\n",
        "def score(hand):  # What is the score of this hand (0 if bust)\n",
        "    return 0 if is_bust(hand) else sum_hand(hand)\n",
        "\n",
        "\n",
        "def is_natural(hand):  # Is this hand a natural blackjack?\n",
        "    return sorted(hand) == [1, 10]\n",
        "\n",
        "\n",
        "class BlackjackEnvWithDoubleAndCounts(gym.Env):\n",
        "    def __init__(self, natural=False):\n",
        "        self.action_space = spaces.Discrete(3)\n",
        "        self.observation_space = spaces.Tuple((\n",
        "            spaces.Discrete(21),\n",
        "            spaces.Discrete(32),\n",
        "            spaces.Discrete(11),\n",
        "            spaces.Discrete(2)))\n",
        "        self.card_count = 0\n",
        "        self.deck_current_state = initial_deck_state.copy()\n",
        "        self.card_number = 48\n",
        "        self.seed()\n",
        "\n",
        "        # Flag to payout 1.5 on a \"natural\" blackjack win, like casino rules\n",
        "        # Ref: http://www.bicyclecards.com/how-to-play/blackjack/\n",
        "        self.natural = natural\n",
        "        # Start the first game\n",
        "        self.reset()\n",
        "\n",
        "    def seed(self, seed=None):\n",
        "        self.np_random, seed = seeding.np_random(seed)\n",
        "        return [seed]\n",
        "\n",
        "\n",
        "    def step(self, action):\n",
        "        assert self.action_space.contains(action)\n",
        "        if action == 1:  # hit: add a card to players hand and return\n",
        "\n",
        "          card = self.draw_card_for_counts(self.np_random)\n",
        "          self.card_count = count_score(self.card_count, [card])\n",
        "          self.player.append(card)\n",
        "            \n",
        "          if is_bust(self.player):\n",
        "            done = True\n",
        "            reward = -1.\n",
        "          else:\n",
        "            done = False\n",
        "            reward = 0.\n",
        "\n",
        "        elif action == 0:  # stick: play out the dealers hand, and score\n",
        "          done = True\n",
        "\n",
        "          while sum_hand(self.dealer) < 17:\n",
        "            self.dealer.append(self.draw_card_for_counts(self.np_random))\n",
        "\n",
        "          self.card_count = count_score(self.card_count, self.dealer[1:])\n",
        "          reward = cmp(score(self.player), score(self.dealer))\n",
        "\n",
        "          if self.natural and is_natural(self.player) and reward == 1.:\n",
        "            reward = 1.5\n",
        "\n",
        "        elif action == 2: # double\n",
        "\n",
        "          done = True\n",
        "\n",
        "          card = self.draw_card_for_counts(self.np_random)\n",
        "          self.card_count = count_score(self.card_count, [card])\n",
        "          self.player.append(card)\n",
        "\n",
        "          while sum_hand(self.dealer) < 17:\n",
        "            self.dealer.append(draw_card(self.np_random))\n",
        "                \n",
        "          self.card_count = count_score(self.card_count, self.dealer[1:])\n",
        "\n",
        "          reward = 2 * cmp(score(self.player), score(self.dealer))\n",
        "\n",
        "        return self._get_obs(), reward, done, {}\n",
        "\n",
        "\n",
        "\n",
        "    def draw_hand_for_counts(self, np_random):\n",
        "        return [self.draw_card_for_counts(np_random), self.draw_card_for_counts(np_random)]\n",
        "\n",
        "    def draw_card_for_counts(self, np_random):\n",
        "        if self.card_number < 15:\n",
        "          self.card_number = 48\n",
        "          self.deck_current_state = initial_deck_state.copy()\n",
        "          self.card_count = 0\n",
        "        \n",
        "        received_card = int(np_random.choice(list(self.deck_current_state.keys()), p = np.array(list(self.deck_current_state.values())) / self.card_number))\n",
        "        self.card_number -= 1\n",
        "        self.deck_current_state[received_card] -= 1\n",
        "        return received_card\n",
        "\n",
        "\n",
        "    def _get_obs(self):\n",
        "        return (self.card_count, sum_hand(self.player), self.dealer[0], usable_ace(self.player))\n",
        "\n",
        "    def reset(self):\n",
        "        self.dealer = self.draw_hand_for_counts(self.np_random)\n",
        "        self.player = self.draw_hand_for_counts(self.np_random)\n",
        "        self.card_count = count_score(self.card_count, self.player)\n",
        "        self.card_count = count_score(self.card_count, [self.dealer[0]])\n",
        "        return self._get_obs()"
      ],
      "execution_count": 214,
      "outputs": []
    },
    {
      "cell_type": "code",
      "metadata": {
        "id": "fn6J4XaPin0A",
        "outputId": "966cd4ca-af00-4180-aade-227de0590aa9",
        "colab": {
          "base_uri": "https://localhost:8080/"
        }
      },
      "source": [
        "total_episodes = 500000\n",
        "exp_freq = 25000\n",
        "env = BlackjackEnvWithDoubleAndCounts(natural=True)\n",
        "gamma = 0.9\n",
        "alpha = 0.1\n",
        "epsilon = 0.2\n",
        "\n",
        "res_reward = exp_with_results_mc(env, mc_control, total_episodes, exp_freq, gamma, alpha, epsilon)"
      ],
      "execution_count": 217,
      "outputs": [
        {
          "output_type": "stream",
          "text": [
            "Episode 500000/500000."
          ],
          "name": "stdout"
        }
      ]
    },
    {
      "cell_type": "code",
      "metadata": {
        "id": "Qm5uwqsHi0Mw",
        "outputId": "c2f98faa-b00e-4237-da66-4293ec2ade6e",
        "colab": {
          "base_uri": "https://localhost:8080/",
          "height": 282
        }
      },
      "source": [
        "print(\"last reward:\" + str(res_reward[-1]))\n",
        "plt.plot(np.arange(0, total_episodes + 1, exp_freq), res_reward, label=\"mc_control\")\n",
        "plt.grid()\n",
        "_ = plt.legend()\n",
        "plt.show()"
      ],
      "execution_count": 218,
      "outputs": [
        {
          "output_type": "stream",
          "text": [
            "last reward:-3969.0\n"
          ],
          "name": "stdout"
        },
        {
          "output_type": "display_data",
          "data": {
            "image/png": "[encoded data removed]",
            "text/plain": [
              "<Figure size 432x288 with 1 Axes>"
            ]
          },
          "metadata": {
            "tags": [],
            "needs_background": "light"
          }
        }
      ]
    },
    {
      "cell_type": "code",
      "metadata": {
        "id": "jkcNiM6AzXbR",
        "outputId": "86a2ef65-4102-4d46-b866-244ae86ea634",
        "colab": {
          "base_uri": "https://localhost:8080/"
        }
      },
      "source": [
        "total_episodes = 500000\n",
        "exp_freq = 25000\n",
        "env = BlackjackEnvWithDoubleAndCounts(natural=True)\n",
        "gamma = 0.9\n",
        "alpha = 0.1\n",
        "epsilon = 0.1\n",
        "\n",
        "res_reward = exp_with_results_mc(env, mc_control, total_episodes, exp_freq, gamma, alpha, epsilon)"
      ],
      "execution_count": 219,
      "outputs": [
        {
          "output_type": "stream",
          "text": [
            "Episode 500000/500000."
          ],
          "name": "stdout"
        }
      ]
    },
    {
      "cell_type": "code",
      "metadata": {
        "id": "_yH5oCZyzXbV",
        "outputId": "be34cdd5-05f6-4b4d-83ca-4142ce2edbb6",
        "colab": {
          "base_uri": "https://localhost:8080/",
          "height": 282
        }
      },
      "source": [
        "print(\"last reward:\" + str(res_reward[-1]))\n",
        "plt.plot(np.arange(0, total_episodes + 1, exp_freq), res_reward, label=\"mc_control\")\n",
        "plt.grid()\n",
        "_ = plt.legend()\n",
        "plt.show()"
      ],
      "execution_count": 220,
      "outputs": [
        {
          "output_type": "stream",
          "text": [
            "last reward:-3140.5\n"
          ],
          "name": "stdout"
        },
        {
          "output_type": "display_data",
          "data": {
            "image/png": "[encoded data removed]",
            "text/plain": [
              "<Figure size 432x288 with 1 Axes>"
            ]
          },
          "metadata": {
            "tags": [],
            "needs_background": "light"
          }
        }
      ]
    },
    {
      "cell_type": "code",
      "metadata": {
        "id": "J0e_4wVszZG1"
      },
      "source": [
        ""
      ],
      "execution_count": null,
      "outputs": []
    }
  ]
}