{
  "nbformat": 4,
  "nbformat_minor": 0,
  "metadata": {
    "colab": {
      "name": "hw2_rl.ipynb",
      "provenance": [],
      "collapsed_sections": [
        "TkdR7bHaiKc5",
        "bw5qjMH3iny5"
      ]
    },
    "kernelspec": {
      "display_name": "Python 3",
      "name": "python3"
    }
  },
  "cells": [
    {
      "cell_type": "code",
      "metadata": {
        "colab": {
          "base_uri": "https://localhost:8080/"
        },
        "id": "3GFH171-h9V8",
        "outputId": "dd2410e9-d833-4881-99c5-6b1b4bae05f3"
      },
      "source": [
        "import gym\n",
        "\n",
        "import matplotlib as mpl\n",
        "import matplotlib.pyplot as plt\n",
        "import seaborn as sns\n",
        "import json\n",
        "import math\n",
        "import random\n",
        "import numpy as np\n",
        "import scipy as sp\n",
        "import scipy.stats as st\n",
        "import scipy.integrate as integrate\n",
        "from scipy.stats import multivariate_normal\n",
        "from sklearn import linear_model\n",
        "from sklearn.utils.testing import ignore_warnings\n",
        "from sklearn.exceptions import ConvergenceWarning\n",
        "import statsmodels.api as sm\n",
        "from matplotlib.colors import LogNorm\n",
        "import pickle\n",
        "\n",
        "from joblib import Parallel, delayed\n",
        "import multiprocessing\n",
        "from collections import namedtuple\n",
        "from itertools import count\n",
        "\n",
        "import cProfile\n",
        "from datetime import datetime\n",
        "\n",
        "import torch\n",
        "import torch.nn as nn\n",
        "import torch.optim as optim\n",
        "import torch.nn.functional as F\n",
        "import torchvision.transforms as T\n",
        "from torch.autograd import Variable\n",
        "from collections import defaultdict\n",
        "\n",
        "sns.set_style(\"whitegrid\")\n",
        "sns.set_palette(\"colorblind\")\n",
        "palette = sns.color_palette()\n",
        "figsize = (15,8)\n",
        "legend_fontsize = 16\n",
        "\n",
        "from matplotlib import rc"
      ],
      "execution_count": 1,
      "outputs": [
        {
          "output_type": "stream",
          "text": [
            "/usr/local/lib/python3.6/dist-packages/sklearn/utils/deprecation.py:144: FutureWarning: The sklearn.utils.testing module is  deprecated in version 0.22 and will be removed in version 0.24. The corresponding classes / functions should instead be imported from sklearn.utils. Anything that cannot be imported from sklearn.utils is now part of the private API.\n",
            "  warnings.warn(message, FutureWarning)\n",
            "/usr/local/lib/python3.6/dist-packages/statsmodels/tools/_testing.py:19: FutureWarning: pandas.util.testing is deprecated. Use the functions in the public API at pandas.testing instead.\n",
            "  import pandas.util.testing as tm\n"
          ],
          "name": "stderr"
        }
      ]
    },
    {
      "cell_type": "code",
      "metadata": {
        "id": "IUbFOHMUUBHr"
      },
      "source": [
        "random.seed(42)"
      ],
      "execution_count": null,
      "outputs": []
    },
    {
      "cell_type": "markdown",
      "metadata": {
        "id": "TkdR7bHaiKc5"
      },
      "source": [
        "## Environment"
      ]
    },
    {
      "cell_type": "code",
      "metadata": {
        "id": "Gtnb0LVzh_ov"
      },
      "source": [
        "N_ROWS, N_COLS, N_WIN = 3, 3, 3"
      ],
      "execution_count": 2,
      "outputs": []
    },
    {
      "cell_type": "code",
      "metadata": {
        "id": "5QjaVkV7iNHl"
      },
      "source": [
        "class TicTacToe(gym.Env):\n",
        "    def __init__(self, n_rows=N_ROWS, n_cols=N_COLS, n_win=N_WIN):\n",
        "        self.n_rows = n_rows\n",
        "        self.n_cols = n_cols\n",
        "        self.n_win = n_win\n",
        "\n",
        "        self.board = np.zeros((self.n_rows, self.n_cols), dtype=int)\n",
        "        self.gameOver = False\n",
        "        self.boardHash = None\n",
        "        # ход первого игрока\n",
        "        self.curTurn = 1\n",
        "        self.emptySpaces = None\n",
        "        \n",
        "        self.reset()\n",
        "\n",
        "    def getEmptySpaces(self):\n",
        "        if self.emptySpaces is None:\n",
        "            res = np.where(self.board == 0)\n",
        "            self.emptySpaces = np.array([ (i, j) for i,j in zip(res[0], res[1]) ])\n",
        "        return self.emptySpaces\n",
        "\n",
        "    def makeMove(self, player, i, j):\n",
        "        self.board[i, j] = player\n",
        "        self.emptySpaces = None\n",
        "        self.boardHash = None\n",
        "\n",
        "    def getHash(self):\n",
        "        if self.boardHash is None:\n",
        "            self.boardHash = ''.join(['%s' % (x+1) for x in self.board.reshape(self.n_rows * self.n_cols)])\n",
        "        return self.boardHash\n",
        "\n",
        "    def isTerminal(self):\n",
        "        # проверим, не закончилась ли игра\n",
        "        cur_marks, cur_p = np.where(self.board == self.curTurn), self.curTurn\n",
        "        for i,j in zip(cur_marks[0], cur_marks[1]):\n",
        "#             print((i,j))\n",
        "            win = False\n",
        "            if i <= self.n_rows - self.n_win:\n",
        "                if np.all(self.board[i:i+self.n_win, j] == cur_p):\n",
        "                    win = True\n",
        "            if not win:\n",
        "                if j <= self.n_cols - self.n_win:\n",
        "                    if np.all(self.board[i,j:j+self.n_win] == cur_p):\n",
        "                        win = True\n",
        "            if not win:\n",
        "                if i <= self.n_rows - self.n_win and j <= self.n_cols - self.n_win:\n",
        "                    if np.all(np.array([ self.board[i+k,j+k] == cur_p for k in range(self.n_win) ])):\n",
        "                        win = True\n",
        "            if not win:\n",
        "                if i <= self.n_rows - self.n_win and j >= self.n_win-1:\n",
        "                    if np.all(np.array([ self.board[i+k,j-k] == cur_p for k in range(self.n_win) ])):\n",
        "                        win = True\n",
        "            if win:\n",
        "                self.gameOver = True\n",
        "                return self.curTurn\n",
        "\n",
        "        if len(self.getEmptySpaces()) == 0:\n",
        "            self.gameOver = True\n",
        "            return 0\n",
        "\n",
        "        self.gameOver = False\n",
        "        return None\n",
        "\n",
        "    def printBoard(self):\n",
        "        for i in range(0, self.n_rows):\n",
        "            print('----'*(self.n_cols)+'-')\n",
        "            out = '| '\n",
        "            for j in range(0, self.n_cols):\n",
        "                if self.board[i, j] == 1:\n",
        "                    token = 'x'\n",
        "                if self.board[i, j] == -1:\n",
        "                    token = 'o'\n",
        "                if self.board[i, j] == 0:\n",
        "                    token = ' '\n",
        "                out += token + ' | '\n",
        "            print(out)\n",
        "        print('----'*(self.n_cols)+'-')\n",
        "\n",
        "    def getState(self):\n",
        "        return (self.getHash(), self.getEmptySpaces(), self.curTurn)\n",
        "\n",
        "    def action_from_int(self, action_int):\n",
        "        return ( int(action_int / self.n_cols), int(action_int % self.n_cols))\n",
        "\n",
        "    def int_from_action(self, action):\n",
        "        return action[0] * self.n_cols + action[1]\n",
        "    \n",
        "    def step(self, action):\n",
        "        if self.board[action[0], action[1]] != 0:\n",
        "            return self.getState(), -10, True, {}\n",
        "        \n",
        "        self.makeMove(self.curTurn, action[0], action[1])\n",
        "        reward = self.isTerminal()\n",
        "        self.curTurn = -self.curTurn\n",
        "        return self.getState(), 0 if reward is None else reward, reward is not None, {}\n",
        "\n",
        "    def reset(self):\n",
        "        self.board = np.zeros((self.n_rows, self.n_cols), dtype=int)\n",
        "        self.boardHash = None\n",
        "        self.gameOver = False\n",
        "        self.emptySpaces = None\n",
        "        self.curTurn = 1"
      ],
      "execution_count": 3,
      "outputs": []
    },
    {
      "cell_type": "code",
      "metadata": {
        "id": "FhMwa4AiiNKh"
      },
      "source": [
        "def plot_board(env, pi, showtext=True, verbose=True, fontq=20, fontx=60):\n",
        "    '''Рисуем доску с оценками из стратегии pi'''\n",
        "    fig, ax = plt.subplots(1, 1, figsize=(8, 8))\n",
        "    X, Y = np.meshgrid(np.arange(0, env.n_rows), np.arange(0, env.n_rows))\n",
        "    Z = np.zeros((env.n_rows, env.n_cols)) + .01\n",
        "    s, actions = env.getHash(), env.getEmptySpaces()\n",
        "    if pi is not None and s in pi.Q:\n",
        "        for i, a in enumerate(actions):\n",
        "            Z[a[0], a[1]] = pi.Q[s][i]\n",
        "    ax.set_xticks([])\n",
        "    ax.set_yticks([])\n",
        "    surf = ax.imshow(Z, cmap=plt.get_cmap('Accent', 10), vmin=-1, vmax=1)\n",
        "    if showtext:\n",
        "        for i,a in enumerate(actions):\n",
        "            if pi is not None and s in pi.Q:\n",
        "                ax.text( a[1] , a[0] , \"%.3f\" % pi.Q[s][i], fontsize=fontq, horizontalalignment='center', verticalalignment='center', color=\"w\" )\n",
        "#             else:\n",
        "#                 ax.text( a[1] , a[0] , \"???\", fontsize=fontq, horizontalalignment='center', verticalalignment='center', color=\"w\" )\n",
        "    for i in range(env.n_rows):\n",
        "        for j in range(env.n_cols):\n",
        "            if env.board[i, j] == -1:\n",
        "                ax.text(j, i, \"O\", fontsize=fontx, horizontalalignment='center', verticalalignment='center', color=\"w\" )\n",
        "            if env.board[i, j] == 1:\n",
        "                ax.text(j, i, \"X\", fontsize=fontx, horizontalalignment='center', verticalalignment='center', color=\"w\" )\n",
        "    cbar = plt.colorbar(surf, ticks=[0, 1])\n",
        "    ax.grid(False)\n",
        "    plt.show()\n",
        "\n",
        "def get_and_print_move(env, pi, s, actions, random=False, verbose=True, fontq=20, fontx=60):\n",
        "    '''Делаем ход, рисуем доску'''\n",
        "    plot_board(env, pi, fontq=fontq, fontx=fontx)\n",
        "    if verbose and (pi is not None):\n",
        "        if s in pi.Q:\n",
        "            for i,a in enumerate(actions):\n",
        "                print(i, a, pi.Q[s][i])\n",
        "        else:\n",
        "            print(\"Стратегия не знает, что делать...\")\n",
        "    if random:\n",
        "        return np.random.randint(len(actions))\n",
        "    else:\n",
        "        return pi.getActionGreedy(s, len(actions))"
      ],
      "execution_count": 4,
      "outputs": []
    },
    {
      "cell_type": "code",
      "metadata": {
        "id": "kHHoACnViTj1"
      },
      "source": [
        "def plot_test_game(env, pi1, pi2, random_crosses=False, random_naughts=True, verbose=True, fontq=20, fontx=60):\n",
        "    '''Играем тестовую партию между стратегиями или со случайными ходами, рисуем ход игры'''\n",
        "    done = False\n",
        "    env.reset()\n",
        "    while not done:\n",
        "        s, actions = env.getHash(), env.getEmptySpaces()\n",
        "        if env.curTurn == 1:\n",
        "            a = get_and_print_move(env, pi1, s, actions, random=random_crosses, verbose=verbose, fontq=fontq, fontx=fontx)\n",
        "        else:\n",
        "            a = get_and_print_move(env, pi2, s, actions, random=random_naughts, verbose=verbose, fontq=fontq, fontx=fontx)\n",
        "        observation, reward, done, info = env.step(actions[a])\n",
        "        if reward == 1:\n",
        "            print(\"Крестики выиграли!\")\n",
        "            plot_board(env, None, showtext=False, fontq=fontq, fontx=fontx)\n",
        "        if reward == -1:\n",
        "            print(\"Нолики выиграли!\")\n",
        "            plot_board(env, None, showtext=False, fontq=fontq, fontx=fontx)"
      ],
      "execution_count": 5,
      "outputs": []
    },
    {
      "cell_type": "code",
      "metadata": {
        "colab": {
          "base_uri": "https://localhost:8080/",
          "height": 173
        },
        "id": "mR3g4xf3iWdt",
        "outputId": "74f4650b-850a-408b-ae7b-4a453d9ebf20"
      },
      "source": [
        "env = TicTacToe(n_rows=3, n_cols=3, n_win=3)\n",
        "plot_test_game(env, None, None, random_crosses=True, random_naughts=True, verbose=True, fontx=10)"
      ],
      "execution_count": 6,
      "outputs": [
        {
          "output_type": "display_data",
          "data": {
            "image/png": "[encoded data removed]",
            "text/plain": [
              "<Figure size 576x576 with 2 Axes>"
            ]
          },
          "metadata": {
            "tags": [],
            "needs_background": "light"
          }
        },
        {
          "output_type": "display_data",
          "data": {
            "image/png": "[encoded data removed]",
            "text/plain": [
              "<Figure size 576x576 with 2 Axes>"
            ]
          },
          "metadata": {
            "tags": [],
            "needs_background": "light"
          }
        },
        {
          "output_type": "display_data",
          "data": {
            "image/png": "[encoded data removed]",
            "text/plain": [
              "<Figure size 576x576 with 2 Axes>"
            ]
          },
          "metadata": {
            "tags": [],
            "needs_background": "light"
          }
        },
        {
          "output_type": "display_data",
          "data": {
            "image/png": "[encoded data removed]",
            "text/plain": [
              "<Figure size 576x576 with 2 Axes>"
            ]
          },
          "metadata": {
            "tags": [],
            "needs_background": "light"
          }
        },
        {
          "output_type": "display_data",
          "data": {
            "image/png": "[encoded data removed]",
            "text/plain": [
              "<Figure size 576x576 with 2 Axes>"
            ]
          },
          "metadata": {
            "tags": [],
            "needs_background": "light"
          }
        },
        {
          "output_type": "display_data",
          "data": {
            "image/png": "[encoded data removed]",
            "text/plain": [
              "<Figure size 576x576 with 2 Axes>"
            ]
          },
          "metadata": {
            "tags": [],
            "needs_background": "light"
          }
        },
        {
          "output_type": "stream",
          "text": [
            "Нолики выиграли!\n"
          ],
          "name": "stdout"
        },
        {
          "output_type": "display_data",
          "data": {
            "image/png": "[encoded data removed]",
            "text/plain": [
              "<Figure size 576x576 with 2 Axes>"
            ]
          },
          "metadata": {
            "tags": [],
            "needs_background": "light"
          }
        }
      ]
    },
    {
      "cell_type": "markdown",
      "metadata": {
        "id": "bw5qjMH3iny5"
      },
      "source": [
        "## Q-learning"
      ]
    },
    {
      "cell_type": "code",
      "metadata": {
        "id": "7_jl15GytpOF"
      },
      "source": [
        "def board_to_number(state):\n",
        "  if len(state) == 0:\n",
        "    return 0\n",
        "\n",
        "  board_actions = [env.int_from_action(x) for x in state]\n",
        "  initial = np.zeros(np.max(board_actions) + 1, dtype=np.int16)\n",
        "\n",
        "  for i in board_actions:\n",
        "    initial[i] = 1\n",
        "\n",
        "  return int(\"\".join(str(i) for i in initial), 2)"
      ],
      "execution_count": null,
      "outputs": []
    },
    {
      "cell_type": "code",
      "metadata": {
        "id": "OK6B3WEovD0I"
      },
      "source": [
        "def encode_state(current_state):\n",
        "  return (current_state[0], board_to_number(current_state[1]), current_state[2])"
      ],
      "execution_count": null,
      "outputs": []
    },
    {
      "cell_type": "code",
      "metadata": {
        "id": "gz6ea5jT44dP"
      },
      "source": [
        "def policyFunction(epsilon, action_size, Q_state):\n",
        "\n",
        "  action_probabilities = np.ones(action_size, dtype = float) * epsilon / action_size\n",
        "\n",
        "  Q_states_available = np.array(Q_state)\n",
        "  idx = np.where(Q_states_available == Q_states_available.max())\n",
        "\n",
        "  for j in idx:\n",
        "    action_probabilities[j] += (1.0 - epsilon) / len(idx)\n",
        "\n",
        "  return random.choices(range(action_size), weights=action_probabilities)[0] "
      ],
      "execution_count": null,
      "outputs": []
    },
    {
      "cell_type": "code",
      "metadata": {
        "id": "6L1uYUfqJ8Yq"
      },
      "source": [
        "def Q_step(env, Q, policy, gamma, alpha, epsilon):\n",
        "    env.reset()\n",
        "    \n",
        "    curr_state = encode_state(env.getState())\n",
        "\n",
        "    done = False\n",
        "\n",
        "    agent_starts = random.choice([0, 1])\n",
        "\n",
        "    if not agent_starts:\n",
        "      curr_state, reward_opponent, done, _ = env.step(random.choice(env.getEmptySpaces()))\n",
        "      curr_state = encode_state(curr_state)\n",
        "\n",
        "    while not done:\n",
        "\n",
        "      curr_act_agent = policy(epsilon, env.n_cols * env.n_rows,  Q[curr_state])\n",
        "      next_state_agent, reward_agent, done, _ = env.step(env.action_from_int(curr_act_agent))   \n",
        "      next_state_agent = encode_state(next_state_agent)\n",
        "\n",
        "      if not agent_starts:\n",
        "        if reward_agent == -1:\n",
        "          reward_agent = 1\n",
        "\n",
        "      if done:\n",
        "        Q[curr_state][curr_act_agent] += alpha * (reward_agent + gamma * np.max(Q[next_state_agent])  - Q[curr_state][curr_act_agent]) \n",
        "        break\n",
        "\n",
        "\n",
        "      next_state_oppos, reward_opponent, done, _ = env.step(random.choice(env.getEmptySpaces()))\n",
        "      next_state_oppos = encode_state(next_state_oppos)\n",
        "\n",
        "      if not agent_starts:\n",
        "        if reward_opponent == 1:\n",
        "          reward_opponent = -1\n",
        "\n",
        "      if reward_opponent == -10:\n",
        "        reward_opponent = 1\n",
        "          \n",
        "\n",
        "      Q[curr_state][curr_act_agent] += alpha * (reward_opponent + gamma * np.max(Q[next_state_oppos])  - Q[curr_state][curr_act_agent]) \n",
        "\n",
        "\n",
        "      curr_state = next_state_oppos\n",
        "           \n",
        "    return Q"
      ],
      "execution_count": null,
      "outputs": []
    },
    {
      "cell_type": "code",
      "metadata": {
        "id": "J8A5BShsjU1d"
      },
      "source": [
        "def conduct_experiments_pi(env, policy, Q, num_experiments=1000):\n",
        "    total_reward = []\n",
        "\n",
        "    for i in range(num_experiments):\n",
        "        total_reward.append(0)\n",
        "\n",
        "        env_starts = random.choice([0, 1])\n",
        "\n",
        "        env.reset()\n",
        "        curr_state = encode_state(env.getState())\n",
        "        \n",
        "        if env_starts:\n",
        "          curr_state, reward_opponent, done, _ = env.step(random.choice(env.getEmptySpaces()))\n",
        "          curr_state = encode_state(curr_state)\n",
        "        \n",
        "        done = False\n",
        "        while not done:\n",
        "\n",
        "            ## Our step\n",
        "            curr_act = policy(0, env.n_cols * env.n_rows,  Q[curr_state])\n",
        "            curr_state, reward_our_alg, done, _ = env.step(env.action_from_int(curr_act))\n",
        "            curr_state = encode_state(curr_state)\n",
        "\n",
        "\n",
        "            if env_starts:\n",
        "              if reward_our_alg == -1:\n",
        "                total_reward[-1] -= reward_our_alg\n",
        "              elif reward_our_alg == -10:\n",
        "                total_reward[-1] += reward_our_alg\n",
        "            else:\n",
        "              total_reward[-1] += reward_our_alg\n",
        "\n",
        "\n",
        "            if done:\n",
        "              break\n",
        "\n",
        "            ## Random step\n",
        "            curr_state, reward_opponent, done, _ = env.step(random.choice(env.getEmptySpaces()))\n",
        "            curr_state = encode_state(curr_state)\n",
        "\n",
        "            if env_starts:\n",
        "              total_reward[-1] -= reward_opponent\n",
        "            else:\n",
        "              total_reward[-1] += reward_opponent\n",
        "\n",
        "            if done:\n",
        "              break\n",
        "\n",
        "    env.close()\n",
        "    return np.sum(total_reward)"
      ],
      "execution_count": null,
      "outputs": []
    },
    {
      "cell_type": "code",
      "metadata": {
        "id": "t5oNJiegjP_E"
      },
      "source": [
        "def exp_with_results(env, total_episodes, exp_freq, gamma, alpha, epsilon):\n",
        "  results_Qlearn = []\n",
        "\n",
        "  Q_arr = defaultdict(lambda: np.zeros(env.n_rows * env.n_cols))\n",
        "\n",
        "  for n in range(0, total_episodes + 1):\n",
        "      Q_arr = Q_step(env, Q_arr, policyFunction, gamma, alpha, epsilon)\n",
        "\n",
        "      if n % exp_freq == 0:\n",
        "          print(\"\\rEpisode {}/{}.\".format(n, total_episodes), end=\"\")\n",
        "          result = conduct_experiments_pi(env, policyFunction, Q_arr)\n",
        "          results_Qlearn.append(result)\n",
        "\n",
        "  env.close()\n",
        "  return results_Qlearn"
      ],
      "execution_count": null,
      "outputs": []
    },
    {
      "cell_type": "code",
      "metadata": {
        "id": "uqkBEKd7kCNa"
      },
      "source": [
        "total_episodes = 100000\n",
        "exp_freq = 1000\n",
        "env = TicTacToe(n_rows=3, n_cols=3, n_win=3)\n",
        "gamma = 1.0\n",
        "alpha = 0.1\n",
        "epsilon = 0.1"
      ],
      "execution_count": null,
      "outputs": []
    },
    {
      "cell_type": "code",
      "metadata": {
        "colab": {
          "base_uri": "https://localhost:8080/",
          "height": 282
        },
        "id": "-oNmUE8bjiIV",
        "outputId": "925d3aae-4012-47c1-9861-a3f25192409d"
      },
      "source": [
        "res_reward = exp_with_results(env, total_episodes, exp_freq, gamma, alpha, epsilon)\n",
        "\n",
        "print(\"last reward:\" + str(res_reward[-1]))\n",
        "plt.plot(np.arange(0, total_episodes + 1, exp_freq), res_reward, label=\"q_learning\")\n",
        "plt.grid()\n",
        "_ = plt.legend()\n",
        "plt.show()\n",
        "\n",
        "# reward 894 plays from 1000, good score"
      ],
      "execution_count": null,
      "outputs": [
        {
          "output_type": "stream",
          "text": [
            "Episode 100000/100000.last reward:894\n"
          ],
          "name": "stdout"
        },
        {
          "output_type": "display_data",
          "data": {
            "image/png": "[encoded data removed]",
            "text/plain": [
              "<Figure size 432x288 with 1 Axes>"
            ]
          },
          "metadata": {
            "tags": []
          }
        }
      ]
    },
    {
      "cell_type": "code",
      "metadata": {
        "colab": {
          "base_uri": "https://localhost:8080/",
          "height": 282
        },
        "id": "SnqFNkGF9eSo",
        "outputId": "e7d8d059-3b4f-45c7-c878-9ab4209ed352"
      },
      "source": [
        "total_episodes = 200000\n",
        "exp_freq = 10000\n",
        "env = TicTacToe(n_rows=4, n_cols=4, n_win=4)\n",
        "gamma = 1.0\n",
        "alpha = 0.1\n",
        "epsilon = 0.1\n",
        "res_reward = exp_with_results(env, total_episodes, exp_freq, gamma, alpha, epsilon)\n",
        "\n",
        "print(\"last reward:\" + str(res_reward[-1]))\n",
        "plt.plot(np.arange(0, total_episodes + 1, exp_freq), res_reward, label=\"q_learning\")\n",
        "plt.grid()\n",
        "_ = plt.legend()\n",
        "plt.show()"
      ],
      "execution_count": null,
      "outputs": [
        {
          "output_type": "stream",
          "text": [
            "Episode 200000/200000.last reward:-5917\n"
          ],
          "name": "stdout"
        },
        {
          "output_type": "display_data",
          "data": {
            "image/png": "[encoded data removed]",
            "text/plain": [
              "<Figure size 432x288 with 1 Axes>"
            ]
          },
          "metadata": {
            "tags": []
          }
        }
      ]
    },
    {
      "cell_type": "code",
      "metadata": {
        "id": "ParNccJEl0by"
      },
      "source": [
        " "
      ],
      "execution_count": null,
      "outputs": []
    },
    {
      "cell_type": "markdown",
      "metadata": {
        "id": "BeGIQ-Fx5PqZ"
      },
      "source": [
        "## DQN"
      ]
    },
    {
      "cell_type": "code",
      "metadata": {
        "id": "C-mIe-6BZD_g"
      },
      "source": [
        "def encode_state_dqn(state, n_cols):\n",
        "  state_to_itterate = [int(i) for i in state[0]]\n",
        "  result = np.zeros(( 3, n_cols, n_cols), dtype=np.int16)\n",
        "\n",
        "  for i in range(3):\n",
        "    idx = np.where(np.array(state_to_itterate) == i)\n",
        "    for id in idx[0]:\n",
        "      result[i][id // n_cols][id % n_cols] = 1\n",
        "\n",
        "  return result"
      ],
      "execution_count": null,
      "outputs": []
    },
    {
      "cell_type": "code",
      "metadata": {
        "id": "8ocMRt9m5R6K"
      },
      "source": [
        "class ReplayMemory():\n",
        "    def __init__(self, capacity):\n",
        "        self.capacity = capacity\n",
        "        self.memory = []\n",
        "        self.position = 0\n",
        "\n",
        "    def store(self, exptuple):\n",
        "        if len(self.memory) < self.capacity:\n",
        "            self.memory.append(None)\n",
        "        self.memory[self.position] = exptuple\n",
        "        self.position = (self.position + 1) % self.capacity\n",
        "       \n",
        "    def sample(self, batch_size):\n",
        "        return random.sample(self.memory, batch_size)\n",
        "    \n",
        "    def __len__(self):\n",
        "        return len(self.memory)"
      ],
      "execution_count": null,
      "outputs": []
    },
    {
      "cell_type": "code",
      "metadata": {
        "id": "3m6sQ__H9-U4"
      },
      "source": [
        "class Network(nn.Module):\n",
        "    def __init__(self, n_cols, n_rows):\n",
        "        nn.Module.__init__(self)\n",
        "        self.conv_out_size = 5\n",
        "        self.n_cols = n_cols\n",
        "        self.n_rows = n_rows\n",
        "        self.conv = nn.Conv2d(3, self.conv_out_size, kernel_size=3, stride=1, padding=1)\n",
        "        self.l2 = nn.Linear(self.conv_out_size * n_cols * n_rows, n_cols * n_rows)\n",
        "\n",
        "    def forward(self, x):\n",
        "        x = F.relu(self.conv(x))\n",
        "        x = x.view(-1, self.conv_out_size * self.n_cols * self.n_rows)\n",
        "        x = self.l2(x)\n",
        "        return x"
      ],
      "execution_count": null,
      "outputs": []
    },
    {
      "cell_type": "code",
      "metadata": {
        "id": "beYCpfqDJAti"
      },
      "source": [
        "class DQNLearning():\n",
        "    def __init__(self, env, n_rows, n_cols, model, optim,  eps_init = 0.9, eps_final = 0.05, eps_decay = 1000, replay_memory_size=100000, gamma=1.0, batch_size=64):\n",
        "        self.env = env\n",
        "        self.n_cols = n_cols\n",
        "        self.action_size = n_rows * n_cols\n",
        "        self.model = model\n",
        "        self.memory = ReplayMemory(replay_memory_size)\n",
        "        self.optimizer = optim\n",
        "        self.steps_done = 0\n",
        "        self.episode_durations = []\n",
        "        \n",
        "        self.gamma = gamma\n",
        "        self.batch_size = batch_size\n",
        "        \n",
        "        self.eps_init, self.eps_final, self.eps_decay = eps_init, eps_final, eps_decay\n",
        "        self.num_step = 0\n",
        "\n",
        "    def select_greedy_action(self, state):\n",
        "        return self.model(state).data.max(1)[1].view(1, 1)\n",
        "\n",
        "    def select_action(self, state):\n",
        "        sample = random.random()\n",
        "        self.num_step += 1\n",
        "        eps_threshold = self.eps_final + (self.eps_init - self.eps_final) * math.exp(-1. * self.num_step / self.eps_decay)\n",
        "        if sample > eps_threshold:\n",
        "            return self.select_greedy_action(state)\n",
        "        else:\n",
        "            return torch.tensor([[random.randrange(self.action_size)]], dtype=torch.int64)\n",
        "        \n",
        "    def run_episode(self, e=0, do_learning=True, greedy=False, render=False):\n",
        "\n",
        "        self.env.reset()\n",
        "        state = encode_state_dqn(self.env.getState(), self.n_cols)\n",
        "        num_step = 0\n",
        "\n",
        "        x_plays = random.choice([0, 1])\n",
        "\n",
        "        if not x_plays:\n",
        "          state, reward, done, _ = self.env.step(random.choice(self.env.getEmptySpaces()))\n",
        "          state = encode_state_dqn(state, self.n_cols)\n",
        "\n",
        "        while True:\n",
        "          state_tensor = torch.tensor([state], dtype=torch.float32)\n",
        "          with torch.no_grad():\n",
        "            if greedy:\n",
        "              action = self.select_greedy_action(state_tensor)\n",
        "            else:\n",
        "              action = self.select_action(state_tensor)\n",
        "\n",
        "          next_state, reward, done, _ = self.env.step(self.env.action_from_int(action.numpy()[0][0]))\n",
        "          next_state = encode_state_dqn(next_state, self.n_cols)\n",
        "          next_state_tensor = torch.tensor([next_state], dtype=torch.float32)\n",
        "\n",
        "          if not done:\n",
        "            next_state, reward, done, _ = self.env.step(random.choice(self.env.getEmptySpaces()))\n",
        "            next_state = encode_state_dqn(next_state, self.n_cols)\n",
        "            next_state_tensor = torch.tensor([next_state], dtype=torch.float32)\n",
        "\n",
        "          if not x_plays:\n",
        "            if reward in [-1, 1]:\n",
        "              reward = reward * -1\n",
        "\n",
        "          transition = (state_tensor, action, next_state_tensor, torch.tensor([reward], dtype=torch.float32))\n",
        "          self.memory.store(transition)\n",
        "\n",
        "          if do_learning:\n",
        "              self.learn()\n",
        "\n",
        "          if done:\n",
        "              break\n",
        "\n",
        "          state = next_state\n",
        "          num_step += 1\n",
        "\n",
        "    def learn(self):\n",
        "        if len(self.memory) < self.batch_size:\n",
        "            return\n",
        "\n",
        "        # берём мини-батч из памяти\n",
        "        transitions = self.memory.sample(self.batch_size)\n",
        "        batch_state, batch_action, batch_next_state, batch_reward = zip(*transitions)\n",
        "\n",
        "        batch_state = Variable(torch.cat(batch_state), requires_grad=True)\n",
        "        batch_action = Variable(torch.cat(batch_action))\n",
        "        batch_reward = Variable(torch.cat(batch_reward))\n",
        "        batch_next_state = Variable(torch.cat(batch_next_state))\n",
        "\n",
        "        # считаем значения функции Q\n",
        "        Q = self.model(batch_state).gather(1, batch_action).reshape([self.batch_size])\n",
        "\n",
        "        # оцениваем ожидаемые значения после этого действия\n",
        "        Qmax = self.model(batch_next_state).detach().max(1)[0]\n",
        "        Qnext = batch_reward + (self.gamma * Qmax)\n",
        "\n",
        "        # и хотим, чтобы Q было похоже на Qnext -- это и есть суть Q-обучения\n",
        "        loss = F.smooth_l1_loss(Q, Qnext)\n",
        "\n",
        "        self.optimizer.zero_grad()\n",
        "        loss.backward()\n",
        "        self.optimizer.step()"
      ],
      "execution_count": null,
      "outputs": []
    },
    {
      "cell_type": "code",
      "metadata": {
        "id": "caCu-ucUpLeu"
      },
      "source": [
        "def conduct_experiments_dqs(env, model, n_cols, num_experiments=1000):\n",
        "    total_reward = []\n",
        "\n",
        "    for i in range(num_experiments):\n",
        "        total_reward.append(0)\n",
        "\n",
        "        env_starts = random.choice([0, 1])\n",
        "\n",
        "        env.reset()\n",
        "        curr_state = encode_state_dqn(env.getState(), n_cols)\n",
        "        \n",
        "        if env_starts:\n",
        "          curr_state, reward_opponent, done, _ = env.step(random.choice(env.getEmptySpaces()))\n",
        "          curr_state = encode_state_dqn(curr_state, n_cols)\n",
        "        \n",
        "        done = False\n",
        "        while not done:\n",
        "\n",
        "            ## Our step\n",
        "            curr_act = model(torch.tensor([curr_state], dtype=torch.float32)).data\n",
        "            curr_act = np.argmax(curr_act.detach().numpy()[0])\n",
        "\n",
        "            curr_state, reward_our_alg, done, _ = env.step(env.action_from_int(curr_act))\n",
        "            curr_state = encode_state_dqn(curr_state, n_cols)\n",
        "\n",
        "            if env_starts:\n",
        "              if reward_our_alg == -1:\n",
        "                total_reward[-1] += 1\n",
        "              elif reward_our_alg == -10:\n",
        "                total_reward[-1] += reward_our_alg\n",
        "            else:\n",
        "              total_reward[-1] += reward_our_alg\n",
        "\n",
        "\n",
        "            if done:\n",
        "              break\n",
        "\n",
        "            ## Random step\n",
        "            curr_state, reward_opponent, done, _ = env.step(random.choice(env.getEmptySpaces()))\n",
        "            curr_state = encode_state_dqn(curr_state, n_cols)\n",
        "\n",
        "            if env_starts:\n",
        "              total_reward[-1] -= reward_opponent\n",
        "            else:\n",
        "              total_reward[-1] += reward_opponent\n",
        "\n",
        "            if done:\n",
        "              break\n",
        "\n",
        "    env.close()\n",
        "    return np.sum(total_reward)"
      ],
      "execution_count": null,
      "outputs": []
    },
    {
      "cell_type": "code",
      "metadata": {
        "id": "fpiNWukrUma7"
      },
      "source": [
        "N_ROWS, N_COLS, N_WIN = 3, 3, 3\n",
        "N_EPOCHS = 3000\n",
        "N_EXP = 300\n",
        "EPS_INIT  = 0.9\n",
        "EPS_FINAL = 0.05\n",
        "EPS_DECAY = 5000\n",
        "RM_SIZE = 100000\n",
        "GAMMA = 0.92\n",
        "BATCH_SIZE = 128\n",
        "LR = 0.001\n",
        "EXP_NUMBER = 1000"
      ],
      "execution_count": null,
      "outputs": []
    },
    {
      "cell_type": "code",
      "metadata": {
        "colab": {
          "base_uri": "https://localhost:8080/"
        },
        "id": "cH3476ZRwUpw",
        "outputId": "80c86039-9950-4b71-c813-0dd853d84d37"
      },
      "source": [
        "model = Network(N_COLS, N_ROWS)\n",
        "env = TicTacToe(n_rows=N_ROWS, n_cols=N_COLS, n_win=N_WIN)\n",
        "optimizer = optim.Adam(model.parameters(), LR)\n",
        "dqn = DQNLearning(env, N_ROWS, N_COLS, model, optimizer, EPS_INIT, EPS_FINAL, EPS_DECAY, RM_SIZE, GAMMA, BATCH_SIZE)\n",
        "\n",
        "res = []\n",
        "print(\"%s\\tStarting training...\" % (datetime.now().time()))\n",
        "for e in range(N_EPOCHS + 1):\n",
        "  dqn.run_episode(e)\n",
        "  if e % N_EXP == 0:\n",
        "    print(\"\\rEpisode {}/{}.\".format(e, N_EPOCHS), end=\"\")\n",
        "    res.append(conduct_experiments_dqs(env, model, N_COLS, EXP_NUMBER))\n",
        "print(\"%s\\t\\t...done!\" % (datetime.now().time()))"
      ],
      "execution_count": null,
      "outputs": [
        {
          "output_type": "stream",
          "text": [
            "10:40:26.401347\tStarting training...\n",
            "Episode 3000/3000.10:41:18.327708\t\t...done!\n"
          ],
          "name": "stdout"
        }
      ]
    },
    {
      "cell_type": "code",
      "metadata": {
        "colab": {
          "base_uri": "https://localhost:8080/",
          "height": 282
        },
        "id": "WyF-1Dq_W-UX",
        "outputId": "33978a9a-2a5a-4ece-8519-419089b9196e"
      },
      "source": [
        "res = [number / EXP_NUMBER for number in res]\n",
        "print(\"last reward:\" + str(res[-1]))\n",
        "plt.plot(np.arange(0, N_EPOCHS + 1, N_EXP), res, label=\"dql\")\n",
        "plt.grid()\n",
        "_ = plt.legend()\n",
        "plt.show()"
      ],
      "execution_count": null,
      "outputs": [
        {
          "output_type": "stream",
          "text": [
            "last reward:0.382\n"
          ],
          "name": "stdout"
        },
        {
          "output_type": "display_data",
          "data": {
            "image/png": "[encoded data removed]",
            "text/plain": [
              "<Figure size 432x288 with 1 Axes>"
            ]
          },
          "metadata": {
            "tags": []
          }
        }
      ]
    },
    {
      "cell_type": "code",
      "metadata": {
        "id": "QVNY7n661UQv"
      },
      "source": [
        "N_ROWS, N_COLS, N_WIN = 5, 5, 5\n",
        "N_EPOCHS = 10000\n",
        "N_EXP = 500\n",
        "EPS_INIT  = 0.9\n",
        "EPS_FINAL = 0.05\n",
        "EPS_DECAY = 5000\n",
        "RM_SIZE = 100000\n",
        "GAMMA = 0.85\n",
        "BATCH_SIZE = 128\n",
        "LR = 0.001\n",
        "EXP_NUMBER = 1000"
      ],
      "execution_count": null,
      "outputs": []
    },
    {
      "cell_type": "code",
      "metadata": {
        "colab": {
          "base_uri": "https://localhost:8080/"
        },
        "id": "y3ivRgvq1UQv",
        "outputId": "76c4dd57-6983-4ea9-f1e3-e75c7282c6fd"
      },
      "source": [
        "model = Network(N_COLS, N_ROWS)\n",
        "env = TicTacToe(n_rows=N_ROWS, n_cols=N_COLS, n_win=N_WIN)\n",
        "optimizer = optim.Adam(model.parameters(), LR)\n",
        "dqn = DQNLearning(env, N_ROWS, N_COLS, model, optimizer, EPS_INIT, EPS_FINAL, EPS_DECAY, RM_SIZE, GAMMA, BATCH_SIZE)\n",
        "\n",
        "res = []\n",
        "print(\"%s\\tStarting training...\" % (datetime.now().time()))\n",
        "for e in range(N_EPOCHS + 1):\n",
        "  dqn.run_episode(e)\n",
        "  if e % N_EXP == 0:\n",
        "    print(\"\\rEpisode {}/{}.\".format(e, N_EPOCHS), end=\"\")\n",
        "    res.append(conduct_experiments_dqs(env, model, N_COLS, EXP_NUMBER))\n",
        "print(\"%s\\t\\t...done!\" % (datetime.now().time()))"
      ],
      "execution_count": null,
      "outputs": [
        {
          "output_type": "stream",
          "text": [
            "10:43:50.909643\tStarting training...\n",
            "Episode 10000/10000.10:51:36.232186\t\t...done!\n"
          ],
          "name": "stdout"
        }
      ]
    },
    {
      "cell_type": "code",
      "metadata": {
        "colab": {
          "base_uri": "https://localhost:8080/",
          "height": 282
        },
        "id": "oM_HecGt1UQw",
        "outputId": "e1469aa1-c162-4219-ead0-252744f9a9c8"
      },
      "source": [
        "res = [number / EXP_NUMBER for number in res]\n",
        "print(\"last reward:\" + str(res[-1]))\n",
        "plt.plot(np.arange(0, N_EPOCHS + 1, N_EXP), res, label=\"dql\")\n",
        "plt.grid()\n",
        "_ = plt.legend()\n",
        "plt.show()"
      ],
      "execution_count": null,
      "outputs": [
        {
          "output_type": "stream",
          "text": [
            "last reward:0.482\n"
          ],
          "name": "stdout"
        },
        {
          "output_type": "display_data",
          "data": {
            "image/png": "[encoded data removed]",
            "text/plain": [
              "<Figure size 432x288 with 1 Axes>"
            ]
          },
          "metadata": {
            "tags": []
          }
        }
      ]
    },
    {
      "cell_type": "code",
      "metadata": {
        "id": "vJGzoVHK3aH9"
      },
      "source": [
        "class DuelingDQN(nn.Module):\n",
        "    def __init__(self, n_cols, n_rows):\n",
        "        nn.Module.__init__(self)\n",
        "        self.conv_out_size = 5\n",
        "        self.n_cols = n_cols\n",
        "        self.n_rows = n_rows\n",
        "        self.conv = nn.Conv2d(3, self.conv_out_size, kernel_size=3, stride=1, padding=1)\n",
        "        self.l2 = nn.Linear(self.conv_out_size * n_cols * n_rows, 64)\n",
        "\n",
        "        self.fc_value = nn.Linear(64, 1)\n",
        "        self.fc_adv = nn.Linear(64, n_cols * n_rows)\n",
        "        \n",
        "\n",
        "    def forward(self, x):\n",
        "        x = F.relu(self.conv(x))\n",
        "        x = x.view(-1, self.conv_out_size * self.n_cols * self.n_rows)\n",
        "        x = self.l2(x)\n",
        "\n",
        "        value = self.fc_value(x)\n",
        "        adv = self.fc_adv(x)\n",
        "\n",
        "        advAverage = torch.mean(adv, dim=1, keepdim=True)\n",
        "        Q = value + adv - advAverage\n",
        "        return Q"
      ],
      "execution_count": null,
      "outputs": []
    },
    {
      "cell_type": "code",
      "metadata": {
        "id": "qaGxL05hn6-H"
      },
      "source": [
        "N_ROWS, N_COLS, N_WIN = 5, 5, 5\n",
        "N_EPOCHS = 10000\n",
        "N_EXP = 500\n",
        "EPS_INIT  = 0.9\n",
        "EPS_FINAL = 0.05\n",
        "EPS_DECAY = 5000\n",
        "RM_SIZE = 100000\n",
        "GAMMA = 0.85\n",
        "BATCH_SIZE = 128\n",
        "LR = 0.0001\n",
        "EXP_NUMBER = 1000"
      ],
      "execution_count": null,
      "outputs": []
    },
    {
      "cell_type": "code",
      "metadata": {
        "colab": {
          "base_uri": "https://localhost:8080/"
        },
        "id": "kPH9mHcun6-H",
        "outputId": "1c0e8511-daae-4290-f372-5df27ad4d013"
      },
      "source": [
        "dueling_model = DuelingDQN(N_COLS, N_ROWS)\n",
        "env = TicTacToe(n_rows=N_ROWS, n_cols=N_COLS, n_win=N_WIN)\n",
        "optimizer = optim.Adam(dueling_model.parameters(), LR)\n",
        "dqn = DQNLearning(env, N_ROWS, N_COLS, dueling_model, optimizer, EPS_INIT, EPS_FINAL, EPS_DECAY, RM_SIZE, GAMMA, BATCH_SIZE)\n",
        "\n",
        "res = []\n",
        "print(\"%s\\tStarting training...\" % (datetime.now().time()))\n",
        "for e in range(N_EPOCHS + 1):\n",
        "  dqn.run_episode(e)\n",
        "  if e % N_EXP == 0:\n",
        "    print(\"\\rEpisode {}/{}.\".format(e, N_EPOCHS), end=\"\")\n",
        "    res.append(conduct_experiments_dqs(env, dueling_model, N_COLS, 1000))\n",
        "print(\"%s\\t\\t...done!\" % (datetime.now().time()))"
      ],
      "execution_count": null,
      "outputs": [
        {
          "output_type": "stream",
          "text": [
            "15:37:06.365861\tStarting training...\n",
            "Episode 10000/10000.15:46:54.784890\t\t...done!\n"
          ],
          "name": "stdout"
        }
      ]
    },
    {
      "cell_type": "code",
      "metadata": {
        "colab": {
          "base_uri": "https://localhost:8080/",
          "height": 282
        },
        "id": "-gnKTFftdErV",
        "outputId": "52bb44ec-5f30-4f32-e20c-21dddc041de0"
      },
      "source": [
        "res = [number / EXP_NUMBER for number in res]\n",
        "print(\"last reward:\" + str(res[-1]))\n",
        "plt.plot(np.arange(0, N_EPOCHS + 1, N_EXP), res, label=\"dueling_dql\")\n",
        "plt.grid()\n",
        "_ = plt.legend()\n",
        "plt.show()"
      ],
      "execution_count": null,
      "outputs": [
        {
          "output_type": "stream",
          "text": [
            "last reward:0.638\n"
          ],
          "name": "stdout"
        },
        {
          "output_type": "display_data",
          "data": {
            "image/png": "[encoded data removed]",
            "text/plain": [
              "<Figure size 432x288 with 1 Axes>"
            ]
          },
          "metadata": {
            "tags": []
          }
        }
      ]
    },
    {
      "cell_type": "markdown",
      "metadata": {
        "id": "uY9jnLy9Hd6R"
      },
      "source": [
        "## MCTS"
      ]
    },
    {
      "cell_type": "code",
      "metadata": {
        "id": "FqTJMK-MHhtG"
      },
      "source": [
        "class Node():\n",
        "\n",
        "  def __init__(self, parent, state):\n",
        "    self.parent = parent\n",
        "    self.state = state\n",
        "    self.action_nodes = {}\n",
        "    self.win_x = 0\n",
        "    self.win_o = 0\n",
        "    self.draw = 0\n",
        "    self.number_of_visits = 0\n",
        "\n",
        "  def score(self, reward, C, number_of_visits_par, number_of_vis):\n",
        "      return reward / number_of_vis + C * np.sqrt(np.log(number_of_visits_par) / number_of_vis)\n",
        "\n",
        "  \n",
        "  def best_child(self, C, o_plays):\n",
        "      best_action = -1\n",
        "      current_val = -1\n",
        "      best_child = None\n",
        "\n",
        "      untried_node, untried_action = self.untried_actions()\n",
        "      if untried_node != None:\n",
        "        return untried_node, untried_action\n",
        "\n",
        "\n",
        "      for action, child in self.action_nodes.items():\n",
        "        if o_plays:\n",
        "          reward = child.win_o + child.draw\n",
        "        else:\n",
        "          reward = child.win_x \n",
        "        \n",
        "        score_res = self.score(reward, C, self.number_of_visits, child.number_of_visits)\n",
        "        \n",
        "        if score_res > current_val:\n",
        "          best_action = action\n",
        "          current_val = score_res\n",
        "          best_child = child\n",
        "\n",
        "      return best_action, best_child\n",
        "\n",
        "\n",
        "  def untried_actions(self):\n",
        "    for action, node in self.action_nodes.items():\n",
        "      if node.number_of_visits == 0:\n",
        "        return action, node\n",
        "    \n",
        "    return None, None\n",
        "        \n",
        "  \n",
        "  def isTerminal(self):\n",
        "    return len(self.action_nodes) == 0\n",
        "\n",
        "\n",
        "  def encode_state_with_action(self, current_state, action, x_plays):\n",
        "    if x_plays:\n",
        "      state = current_state[:action] + \"2\" + current_state[action+1:]\n",
        "    else:\n",
        "      state = current_state[:action] + \"0\" + current_state[action+1:]\n",
        "    \n",
        "    return state\n",
        "\n",
        "\n",
        "  def expand(self, available_actions, x_plays):\n",
        "    for action in available_actions:\n",
        "      self.action_nodes[action] = Node(self, self.encode_state_with_action(self.state, action, x_plays))\n",
        "\n",
        "\n",
        "  def get_child_by_action(self, action):\n",
        "    if action in self.action_nodes:\n",
        "      return self.action_nodes[action]\n",
        "    else:\n",
        "      return None\n",
        "\n",
        "\n",
        "  def backpropagate(self, result):\n",
        "    if result == 1:\n",
        "      self.win_x += 1\n",
        "    elif result == 0:\n",
        "      self.win_o += 1\n",
        "    else:\n",
        "      self.draw += 1\n",
        "\n",
        "    self.number_of_visits += 1\n",
        "\n",
        "    if self.parent != None:\n",
        "      self.parent.backpropagate(result)\n",
        "\n",
        "  def new(self):\n",
        "    return self.number_of_visits == 0\n"
      ],
      "execution_count": 8,
      "outputs": []
    },
    {
      "cell_type": "code",
      "metadata": {
        "id": "27mheXTYefk_"
      },
      "source": [
        "def rollout(env):\n",
        "  done = False\n",
        "  while not done:\n",
        "    action = random.choice(env.getEmptySpaces())\n",
        "    curr_state, reward, done, _ = env.step(action)\n",
        "\n",
        "  return reward"
      ],
      "execution_count": 9,
      "outputs": []
    },
    {
      "cell_type": "code",
      "metadata": {
        "id": "I7oboLCRa8OZ"
      },
      "source": [
        "class MCTS():\n",
        "  def __init__(self, state, N_ACTIONS):\n",
        "    self.root = Node(None, state)\n",
        "    self.root.expand(range(N_ACTIONS), True)"
      ],
      "execution_count": 10,
      "outputs": []
    },
    {
      "cell_type": "code",
      "metadata": {
        "id": "AdUD9Du4bS9s"
      },
      "source": [
        "def train(env, tree, NUM_EPOCHS, C):\n",
        "    env.reset()\n",
        "    state = env.getState()[0]\n",
        "    done = False\n",
        "    node = tree.root\n",
        "\n",
        "    env_starts = random.choice([0, 1])\n",
        "\n",
        "    if env_starts:\n",
        "      action = random.choice(env.getEmptySpaces())\n",
        "      curr_state, reward, done, _ = env.step(action)\n",
        "      node = node.get_child_by_action(env.int_from_action(action))\n",
        "\n",
        "    rand_plays = True\n",
        "    while not node.isTerminal() and not done:\n",
        "      if not rand_plays:\n",
        "        action, next_node = node.best_child(C, env_starts)\n",
        "        curr_state, reward, done, _ = env.step(env.action_from_int(action))\n",
        "        node = next_node\n",
        "        rand_plays = True\n",
        "      else:\n",
        "        action = random.choice(env.getEmptySpaces())\n",
        "        curr_state, reward, done, _ = env.step(action)\n",
        "        node = node.get_child_by_action(env.int_from_action(action))\n",
        "        rand_plays = False\n",
        "\n",
        "    \n",
        "    if done:\n",
        "      node.backpropagate(reward)\n",
        "    elif node.isTerminal:\n",
        "\n",
        "      if env_starts and rand_plays:\n",
        "        x_plays = True\n",
        "      elif not env_starts and rand_plays:\n",
        "        x_plays = False\n",
        "      elif env_starts and not rand_plays:\n",
        "        x_plays = False\n",
        "      else:\n",
        "        x_plays = True\n",
        "\n",
        "      available_actions = [env.int_from_action(act) for act in env.getEmptySpaces()]\n",
        "      if not node.new():\n",
        "        node.expand(available_actions, x_plays)\n",
        "        _, node = node.best_child(C, x_plays)\n",
        "\n",
        "      result = rollout(env)\n",
        "      node.backpropagate(result)\n",
        "      "
      ],
      "execution_count": 11,
      "outputs": []
    },
    {
      "cell_type": "code",
      "metadata": {
        "id": "AL5KN_r7TQAN"
      },
      "source": [
        "def conduct_experiments_mcts(env, tree, NUM_EPOCHS_TEST):\n",
        "\n",
        "  total_reward = 0\n",
        "\n",
        "  for i in range(NUM_EPOCHS_TEST):\n",
        "    env.reset()\n",
        "    state = env.getState()[0]\n",
        "    done = False\n",
        "    node = tree.root\n",
        "\n",
        "    env_starts = random.choice([0, 1])\n",
        "\n",
        "    if env_starts:\n",
        "      action = random.choice(env.getEmptySpaces())\n",
        "      curr_state, reward, done, _ = env.step(action)\n",
        "      node = node.get_child_by_action(env.int_from_action(action))\n",
        "\n",
        "\n",
        "    rand_plays = True\n",
        "    while not done and not node.isTerminal():\n",
        "      if not rand_plays:\n",
        "        action, next_node = node.best_child(0, env_starts)\n",
        "        curr_state, reward, done, _ = env.step(env.action_from_int(action))\n",
        "        node = next_node\n",
        "        rand_plays = True\n",
        "      else:\n",
        "        action = random.choice(env.getEmptySpaces())\n",
        "        curr_state, reward, done, _ = env.step(action)\n",
        "        node = node.get_child_by_action(env.int_from_action(action))\n",
        "        rand_plays = False\n",
        "\n",
        "    \n",
        "    if done:\n",
        "      if env_starts:\n",
        "        total_reward -= reward\n",
        "      else:\n",
        "        total_reward += reward\n",
        "\n",
        "    elif node.isTerminal():\n",
        "\n",
        "      while not done:\n",
        "        action = random.choice(env.getEmptySpaces())\n",
        "        curr_state, reward, done, _ = env.step(action)\n",
        "\n",
        "      if env_starts:\n",
        "        total_reward -= reward\n",
        "      else:\n",
        "        total_reward += reward\n",
        "\n",
        "  return total_reward\n",
        "     \n",
        "      "
      ],
      "execution_count": 12,
      "outputs": []
    },
    {
      "cell_type": "code",
      "metadata": {
        "id": "lKypjCVHP6P9"
      },
      "source": [
        "N_ROWS, N_COLS, N_WIN = 3, 3, 3\n",
        "N_EPOCHS = 100000\n",
        "N_PLAYS_TEST = 10000\n",
        "N_TEST = 5000\n",
        "N_ACTIONS = N_ROWS * N_COLS\n",
        "C = 0.3\n",
        "env = TicTacToe(n_rows=N_ROWS, n_cols=N_COLS, n_win=N_WIN)\n",
        "env.reset()\n",
        "tree = MCTS(env.getState()[0], N_ACTIONS)"
      ],
      "execution_count": 13,
      "outputs": []
    },
    {
      "cell_type": "code",
      "metadata": {
        "colab": {
          "base_uri": "https://localhost:8080/"
        },
        "id": "_0xLjO8UQIGu",
        "outputId": "7c23d3f4-7b0f-4259-9a9e-f91eff1f5910"
      },
      "source": [
        "res = []\n",
        "for i in range(N_EPOCHS + 1):\n",
        "  train(env, tree, N_EPOCHS, C)\n",
        "\n",
        "  if i % N_TEST == 0:\n",
        "    print(\"\\rEpisode {}/{}.\".format(i, N_EPOCHS), end=\"\")\n",
        "    res.append(conduct_experiments_mcts(env, tree, N_PLAYS_TEST))"
      ],
      "execution_count": 15,
      "outputs": [
        {
          "output_type": "stream",
          "text": [
            "Episode 100000/100000."
          ],
          "name": "stdout"
        }
      ]
    },
    {
      "cell_type": "code",
      "metadata": {
        "colab": {
          "base_uri": "https://localhost:8080/",
          "height": 282
        },
        "id": "MZna8aG8iS3r",
        "outputId": "4524a99e-256d-4d02-93ea-963abf9c21d1"
      },
      "source": [
        "res = [number / N_PLAYS_TEST for number in res]\n",
        "print(\"last reward:\" + str(res[-1]))\n",
        "plt.plot(np.arange(0, N_EPOCHS + 1, N_TEST), res, label=\"mcts\")\n",
        "plt.grid()\n",
        "_ = plt.legend()\n",
        "plt.show()"
      ],
      "execution_count": 16,
      "outputs": [
        {
          "output_type": "stream",
          "text": [
            "last reward:0.7482\n"
          ],
          "name": "stdout"
        },
        {
          "output_type": "display_data",
          "data": {
            "image/png": "[encoded data removed]",
            "text/plain": [
              "<Figure size 432x288 with 1 Axes>"
            ]
          },
          "metadata": {
            "tags": [],
            "needs_background": "light"
          }
        }
      ]
    },
    {
      "cell_type": "code",
      "metadata": {
        "id": "JLpitAArIBfA"
      },
      "source": [
        "N_ROWS, N_COLS, N_WIN = 5, 5, 4\n",
        "N_EPOCHS = 500000\n",
        "N_PLAYS_TEST = 10000\n",
        "N_TEST = 50000\n",
        "N_ACTIONS = N_ROWS * N_COLS\n",
        "C = 0.3\n",
        "env = TicTacToe(n_rows=N_ROWS, n_cols=N_COLS, n_win=N_WIN)\n",
        "env.reset()\n",
        "tree = MCTS(env.getState()[0], N_ACTIONS)"
      ],
      "execution_count": 17,
      "outputs": []
    },
    {
      "cell_type": "code",
      "metadata": {
        "colab": {
          "base_uri": "https://localhost:8080/"
        },
        "id": "_8vJ2sAjIBfA",
        "outputId": "2cc22799-f6b8-4663-d272-80d9cd1195e1"
      },
      "source": [
        "res = []\n",
        "for i in range(N_EPOCHS + 1):\n",
        "  train(env, tree, N_EPOCHS, C)\n",
        "\n",
        "  if i % N_TEST == 0:\n",
        "    print(\"\\rEpisode {}/{}.\".format(i, N_EPOCHS), end=\"\")\n",
        "    res.append(conduct_experiments_mcts(env, tree, N_PLAYS_TEST))"
      ],
      "execution_count": 18,
      "outputs": [
        {
          "output_type": "stream",
          "text": [
            "Episode 500000/500000."
          ],
          "name": "stdout"
        }
      ]
    },
    {
      "cell_type": "code",
      "metadata": {
        "colab": {
          "base_uri": "https://localhost:8080/",
          "height": 282
        },
        "id": "yno_k-EKIBfA",
        "outputId": "70427687-0029-44d3-d075-35135c484fd9"
      },
      "source": [
        "res = [number / N_PLAYS_TEST for number in res]\n",
        "print(\"last reward:\" + str(res[-1]))\n",
        "plt.plot(np.arange(0, N_EPOCHS + 1, N_TEST), res, label=\"mcts\")\n",
        "plt.grid()\n",
        "_ = plt.legend()\n",
        "plt.show()"
      ],
      "execution_count": 19,
      "outputs": [
        {
          "output_type": "stream",
          "text": [
            "last reward:0.1058\n"
          ],
          "name": "stdout"
        },
        {
          "output_type": "display_data",
          "data": {
            "image/png": "[encoded data removed]",
            "text/plain": [
              "<Figure size 432x288 with 1 Axes>"
            ]
          },
          "metadata": {
            "tags": [],
            "needs_background": "light"
          }
        }
      ]
    },
    {
      "cell_type": "code",
      "metadata": {
        "id": "uMEBNYOslJFE"
      },
      "source": [
        "N_ROWS, N_COLS, N_WIN = 5, 5, 5\n",
        "N_EPOCHS = 1000000\n",
        "N_PLAYS_TEST = 10000\n",
        "N_TEST = 10000\n",
        "N_ACTIONS = N_ROWS * N_COLS\n",
        "C = 0.2\n",
        "env = TicTacToe(n_rows=N_ROWS, n_cols=N_COLS, n_win=N_WIN)\n",
        "env.reset()\n",
        "tree = MCTS(env.getState()[0], N_ACTIONS)"
      ],
      "execution_count": null,
      "outputs": []
    },
    {
      "cell_type": "code",
      "metadata": {
        "colab": {
          "background_save": true,
          "base_uri": "https://localhost:8080/"
        },
        "id": "UjnBsJRHlJFE",
        "outputId": "2a974ff3-040b-499f-d481-5761c1702638"
      },
      "source": [
        "res = []\n",
        "for i in range(N_EPOCHS + 1):\n",
        "  train(env, tree, N_EPOCHS, C)\n",
        "\n",
        "  if i % N_TEST == 0:\n",
        "    print(\"\\rEpisode {}/{}.\".format(i, N_EPOCHS), end=\"\")\n",
        "    res.append(conduct_experiments_mcts(env, tree, N_PLAYS_TEST))"
      ],
      "execution_count": null,
      "outputs": [
        {
          "output_type": "stream",
          "text": [
            "Episode 1000000/1000000."
          ],
          "name": "stdout"
        }
      ]
    },
    {
      "cell_type": "code",
      "metadata": {
        "colab": {
          "background_save": true
        },
        "id": "198Ea2RmlJFF",
        "outputId": "7b404265-b1d1-4a92-b2d2-8646b31dfb92"
      },
      "source": [
        "res = [number / N_PLAYS_TEST for number in res]\n",
        "print(\"last reward:\" + str(res[-1]))\n",
        "plt.plot(np.arange(0, N_EPOCHS + 1, N_TEST), res, label=\"mcts\")\n",
        "plt.grid()\n",
        "_ = plt.legend()\n",
        "plt.show()"
      ],
      "execution_count": null,
      "outputs": [
        {
          "output_type": "stream",
          "text": [
            "last reward:0.0128\n"
          ],
          "name": "stdout"
        },
        {
          "output_type": "display_data",
          "data": {
            "image/png": "[encoded data removed]",
            "text/plain": [
              "<Figure size 432x288 with 1 Axes>"
            ]
          },
          "metadata": {
            "tags": []
          }
        }
      ]
    },
    {
      "cell_type": "markdown",
      "metadata": {
        "id": "7iXyjvQutRNg"
      },
      "source": [
        "Наилучший результат для полей размера больше 3 показали DQN. Остальные алгоритмы хорошо работают на конечном(маленьком) числе состояний, которые можно пройти. \n",
        "При этом DQN быстро обучаются на большой штраф -10, но потом обучение происходит достаточно средне. Возможно это связано со слишком большим штрафом за ход в неправильное место.\n",
        "Все алгоритмы обучались против противника с рандомными ходами для упрощения обучения."
      ]
    },
    {
      "cell_type": "markdown",
      "metadata": {
        "id": "5Mg-_S6_uAlJ"
      },
      "source": [
        "Также интересная особенность MCTS в том, что при использовании реварда для крестиков только за победы, а для ноликов за победы и ничьи дает наилучший результат, тк нолики не всегда могут победить. \n",
        "После окончания дерева, MCTS использует рандомную стратегию, что также мешает ему работать с досками большой размерности."
      ]
    },
    {
      "cell_type": "markdown",
      "metadata": {
        "id": "TIPAbllUuoBZ"
      },
      "source": [
        "При этом игра в крестики-нолики на больших досках кажется бессмысленной при рандомном противнике, тк ему очень сложно победить."
      ]
    }
  ]
}